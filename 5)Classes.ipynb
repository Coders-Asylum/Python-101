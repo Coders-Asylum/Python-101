{
  "nbformat": 4,
  "nbformat_minor": 0,
  "metadata": {
    "colab": {
      "name": "4)Classes.ipynb",
      "provenance": [],
      "include_colab_link": true
    },
    "kernelspec": {
      "name": "python3",
      "display_name": "Python 3"
    }
  },
  "cells": [
    {
      "cell_type": "markdown",
      "metadata": {
        "id": "view-in-github",
        "colab_type": "text"
      },
      "source": [
        "<a href=\"https://colab.research.google.com/github/Coders-Asylum/Python-101/blob/master/4)Classes.ipynb\" target=\"_parent\"><img src=\"https://colab.research.google.com/assets/colab-badge.svg\" alt=\"Open In Colab\"/></a>"
      ]
    },
    {
      "cell_type": "markdown",
      "metadata": {
        "id": "pn5vegiDRRJj",
        "colab_type": "text"
      },
      "source": [
        "#**Classes:**"
      ]
    },
    {
      "cell_type": "markdown",
      "metadata": {
        "id": "PkhZ-GLOVaBZ",
        "colab_type": "text"
      },
      "source": [
        "Python is also an objject oriented programming language. So like other object oriented prorgamming languages classes are used to group related code together and execute using objects.\n",
        "\n"
      ]
    },
    {
      "cell_type": "markdown",
      "metadata": {
        "id": "NKLNE3p1WjoU",
        "colab_type": "text"
      },
      "source": [
        "In python classes are declared with 'class' keyword followed by the class name and ':' . \n",
        "In Python the most of the working of the class is similar as a class in C++. In other words python class takes functionality of the c++ class with addition of few more fatures."
      ]
    },
    {
      "cell_type": "code",
      "metadata": {
        "id": "7kBQamgmYOAo",
        "colab_type": "code",
        "colab": {}
      },
      "source": [
        "# Genral Syntax of Class \n",
        "class ClassName:\n",
        "  <statements>\n",
        "  ...\n",
        "  ...\n",
        "  ...\n",
        "  ..\n",
        "  .\n",
        "  <statements>"
      ],
      "execution_count": 0,
      "outputs": []
    },
    {
      "cell_type": "markdown",
      "metadata": {
        "id": "7F7aHPZpYds4",
        "colab_type": "text"
      },
      "source": [
        "**Methods:**\n",
        "Functions defined inside a class is know as methods."
      ]
    },
    {
      "cell_type": "markdown",
      "metadata": {
        "id": "f-k-9zNjZRrF",
        "colab_type": "text"
      },
      "source": [
        "## **Class objects**\n",
        "\n"
      ]
    },
    {
      "cell_type": "markdown",
      "metadata": {
        "id": "kXp3bqm9c0ua",
        "colab_type": "text"
      },
      "source": [
        "Class objects are variables used to access the class members and methods.\n",
        "\n",
        "Class instantiation uses function notation. Just pretend that the class object is a parameterless function that returns a new instance of the class. \n",
        "\n",
        "Object creates a new instance of the class and assigns this object to the local variable."
      ]
    },
    {
      "cell_type": "code",
      "metadata": {
        "id": "MYZveWnyhc9n",
        "colab_type": "code",
        "outputId": "aa6637d7-44b4-4954-fc89-b6b610ab017b",
        "colab": {
          "base_uri": "https://localhost:8080/",
          "height": 35
        }
      },
      "source": [
        "class MyClass:\n",
        "    \"\"\"A simple example class\"\"\"\n",
        "    i = 12345\n",
        "\n",
        "    def f(self):\n",
        "        return 'hello world'\n",
        "\n",
        "x=MyClass()\n",
        "print(x.f)"
      ],
      "execution_count": 0,
      "outputs": [
        {
          "output_type": "stream",
          "text": [
            "<bound method MyClass.f of <__main__.MyClass object at 0x7f824242c3c8>>\n"
          ],
          "name": "stdout"
        }
      ]
    },
    {
      "cell_type": "markdown",
      "metadata": {
        "id": "C-LzcZY9Iurq",
        "colab_type": "text"
      },
      "source": [
        "The class is always initialized with an `__init__()` function which acts as an constructor for the class with a 'self' paramerter. The `__init__()` functon is used to setup some default values for the methods in the class.\n"
      ]
    },
    {
      "cell_type": "code",
      "metadata": {
        "id": "TYQzSrh-SWf4",
        "colab_type": "code",
        "outputId": "d8d4e7ca-fc29-49d2-9588-8213c363e443",
        "colab": {
          "base_uri": "https://localhost:8080/",
          "height": 54
        }
      },
      "source": [
        "class Dog:\n",
        "\n",
        "    kind = 'canine'         # class variable shared by all instances\n",
        "\n",
        "    def __init__(self, name):\n",
        "        self.name = name    # instance variable unique to each instance\n",
        "\n",
        "obj=Dog('Fiddo')\n",
        "print(obj.kind)\n",
        "\n",
        "obj2=Dog('Buddy')\n",
        "print(obj2.kind)"
      ],
      "execution_count": 0,
      "outputs": [
        {
          "output_type": "stream",
          "text": [
            "canine\n",
            "canine\n"
          ],
          "name": "stdout"
        }
      ]
    },
    {
      "cell_type": "markdown",
      "metadata": {
        "id": "EAwhZJSiS8dn",
        "colab_type": "text"
      },
      "source": [
        "**What is the 'self'.name doing here in the method and self in the method parameter?**\n",
        "\n",
        "The self prameter is a prerequisite for any method in the class. Due to the self parameter whenwver a new object is created and new instance of the variable is created. That means the previous operation due to a previous object does not affect the variable value of next object.\n",
        "\n",
        "You'll need to pass \"self\" to any class functions as the first argument if you want them to behave as non-static methods. \"self\" are instance variables for your class.\n",
        "\n",
        "It is not necesasry the first parameter of any method should be self it could be named anything and can be different for each meethod in the class.\n",
        "\n",
        "But all the programers 'self' beacuse it is easy to understand by another programmers working on the same code.\n",
        "\n",
        "Methods may call other methods by using method attributes of the self argument\n",
        "(you will see all of this in the below examples)\n",
        "\n"
      ]
    },
    {
      "cell_type": "markdown",
      "metadata": {
        "id": "nGu4flqfX1w9",
        "colab_type": "text"
      },
      "source": [
        "Below is an code example where the code converts the time of epoch into seconds: \n",
        "\n",
        "*Pythom time method `time.time()` returns the time as a floating point number expressed in seconds since the epoch, in UTC.*"
      ]
    },
    {
      "cell_type": "code",
      "metadata": {
        "id": "mq7JMiDvW4gg",
        "colab_type": "code",
        "colab": {
          "base_uri": "https://localhost:8080/",
          "height": 72
        },
        "outputId": "9f445a32-85c4-49ad-b33d-2a396f75d448"
      },
      "source": [
        "import time\n",
        "\n",
        "\n",
        "class CalculateTime:\n",
        "    def __init__(self, differenceintime):\n",
        "        self.getdifferencetime = differenceintime         # Here the paramerter is initialized for the methods in the class\n",
        "\n",
        "    # Converting the floating seconds data into structured time\n",
        "    def getStructuredTime(self):\n",
        "        convert_seconds_to_readable_value = time.gmtime(self.getdifferencetime)\n",
        "        covert_to_struct_time = time.struct_time(convert_seconds_to_readable_value)\n",
        "\n",
        "        return convert_seconds_to_readable_value\n",
        "\n",
        "    def SeperateSeconds(self):\n",
        "        StructuredTime = self.getStructuredTime()    #Here the self is used to call an function which is a member of the class.\n",
        "                                                     #Due to which when ever the object is created an new instance of the variable is created\n",
        "        seconds = StructuredTime.tm_sec\n",
        "        return seconds\n",
        "\n",
        "    def SeperateMinutes(self):\n",
        "        StructureTime = self.getStructuredTime()\n",
        "        minutes = StructureTime.tm_min\n",
        "        return minutes\n",
        "\n",
        "    def SeperateHours(self):\n",
        "        StructuredTime = self.getStructuredTime()\n",
        "        hours = StructuredTime.tm_hour\n",
        "        return hours\n",
        "\n",
        "    def convertEverythingIntoSeconds(self):\n",
        "        Seconds = self.SeperateSeconds()\n",
        "        Minutes = self.SeperateMinutes()\n",
        "        Hours = self.SeperateHours()\n",
        "\n",
        "        allInSeconds = ((Hours * 60 * 60) + (Minutes * 60) + Seconds)\n",
        "        return allInSeconds\n",
        "\n",
        "\n",
        "if __name__ == '__main__':\n",
        "    obj = CalculateTime(differenceintime=time.time())\n",
        "    print(obj.SeperateSeconds())\n",
        "    print(obj.SeperateHours())\n",
        "    print(obj.SeperateMinutes())"
      ],
      "execution_count": 6,
      "outputs": [
        {
          "output_type": "stream",
          "text": [
            "29\n",
            "5\n",
            "13\n"
          ],
          "name": "stdout"
        }
      ]
    },
    {
      "cell_type": "markdown",
      "metadata": {
        "id": "HATWfSrfahn7",
        "colab_type": "text"
      },
      "source": [
        "## Inheritance"
      ]
    },
    {
      "cell_type": "markdown",
      "metadata": {
        "id": "kiD1J0pmawJE",
        "colab_type": "text"
      },
      "source": [
        "Inheritance give the properties to the inherited class from which it is inherited from."
      ]
    },
    {
      "cell_type": "code",
      "metadata": {
        "id": "3wCuqYFYJrCh",
        "colab_type": "code",
        "colab": {
          "base_uri": "https://localhost:8080/",
          "height": 35
        },
        "outputId": "909915f2-f38a-4004-cf6a-52075ebf217c"
      },
      "source": [
        "#createing a base class or parent class\n",
        "\n",
        "class BaseClassName:\n",
        "  def __init__(self,name):\n",
        "    self.name=name\n",
        "  \n",
        "  def append(self):\n",
        "    print(\" Hello My name is \"+self.name)\n",
        "\n",
        "obj=BaseClassName(\"YourName\")\n",
        "obj.append()\n"
      ],
      "execution_count": 7,
      "outputs": [
        {
          "output_type": "stream",
          "text": [
            " Hello My name isYourName\n"
          ],
          "name": "stdout"
        }
      ]
    },
    {
      "cell_type": "markdown",
      "metadata": {
        "id": "EvmLqbQvLfqZ",
        "colab_type": "text"
      },
      "source": [
        "Now to create a child class or a derived class you have to send the parent class or derived class name as the parameter while defining the class."
      ]
    },
    {
      "cell_type": "code",
      "metadata": {
        "id": "K6_1gUnvJ5fV",
        "colab_type": "code",
        "colab": {
          "base_uri": "https://localhost:8080/",
          "height": 35
        },
        "outputId": "ae0c7c36-ad82-403f-eb1e-78e32b0ef81c"
      },
      "source": [
        "#createing a base class or parent class\n",
        "\n",
        "class BaseClassName:\n",
        "  def __init__(self,name):\n",
        "    self.name=name\n",
        "  \n",
        "  def append(self):\n",
        "    print(\" Hello My name is \"+self.name)\n",
        "\n",
        "# Defined the child class or the derived class but does not have any functionality, so we have used 'pass'\n",
        "class DerivedClass(BaseClassName):\n",
        "  pass\n",
        "\n",
        "# Here we will use the child class to access the methods of the parent class\n",
        "obj=DerivedClass(\"YourName\")\n",
        "obj.append()"
      ],
      "execution_count": 8,
      "outputs": [
        {
          "output_type": "stream",
          "text": [
            " Hello My name is YourName\n"
          ],
          "name": "stdout"
        }
      ]
    },
    {
      "cell_type": "markdown",
      "metadata": {
        "id": "oRT21eHANOsg",
        "colab_type": "text"
      },
      "source": [
        "Adding the `__init__()` function for the derived class to give intializations for its memeber methods. \n",
        "\n",
        "The addition of the `__init__()` function will overide the inheritance of `__init__()` function of the parent class."
      ]
    },
    {
      "cell_type": "code",
      "metadata": {
        "id": "dGftmW2mNpnq",
        "colab_type": "code",
        "colab": {
          "base_uri": "https://localhost:8080/",
          "height": 54
        },
        "outputId": "c8bb661b-5998-4379-a4d2-3b547a7f07eb"
      },
      "source": [
        "#createing a base class or parent class\n",
        "\n",
        "class BaseClassName:\n",
        "  def __init__(self,name):\n",
        "    self.name=name\n",
        "  \n",
        "  def append(self):\n",
        "    print(\" Hello My name is \"+self.name)\n",
        "\n",
        "# Defined the child class or the derived class but the inheritance is overiden\n",
        "class DerivedClass(BaseClassName):\n",
        "  def __init__(self,name):\n",
        "    self.name=name\n",
        "\n",
        "  def append2(self):\n",
        "    print(self.name+ \"is invincible\")\n",
        "\n",
        "# Here we will use the child class to access the methods of the parent class\n",
        "obj=DerivedClass(\"YourName\")\n",
        "obj.append()"
      ],
      "execution_count": 27,
      "outputs": [
        {
          "output_type": "stream",
          "text": [
            " Hello My name is YourName\n",
            "YourNameis invincible\n"
          ],
          "name": "stdout"
        }
      ]
    },
    {
      "cell_type": "markdown",
      "metadata": {
        "id": "bw5j--OBQRjf",
        "colab_type": "text"
      },
      "source": [
        "Now if you want to keep the inheritance of the parent class or the derived class. Call the parents function `__init__()` function from the derived class `__init__()` function."
      ]
    },
    {
      "cell_type": "code",
      "metadata": {
        "id": "cBpzMwoOQuul",
        "colab_type": "code",
        "colab": {
          "base_uri": "https://localhost:8080/",
          "height": 54
        },
        "outputId": "809b0773-871a-44e0-acb9-33d0fd814491"
      },
      "source": [
        "#createing a base class or parent class\n",
        "\n",
        "class BaseClassName:\n",
        "  def __init__(self,name):\n",
        "    self.name=name\n",
        "  \n",
        "  def append(self):\n",
        "    print(\" Hello My name is \"+self.name)\n",
        "\n",
        "# Defined the child class or the derived class but the inheritance of parents __init__() is not overidden\n",
        "class DerivedClass(BaseClassName):\n",
        "  def __init__(self,name,year):\n",
        "    BaseClassName.__init__(self,name)\n",
        "    self.year=year\n",
        "\n",
        "  def append2(self):\n",
        "    print(\"This is \"+self.year)\n",
        "\n",
        "# Here we will use the child class to access the methods of the parent class\n",
        "obj=DerivedClass(\"YourName\",\"2019\")\n",
        "obj.append()\n",
        "obj.append2()"
      ],
      "execution_count": 31,
      "outputs": [
        {
          "output_type": "stream",
          "text": [
            " Hello My name is YourName\n",
            "2019 is invincible\n"
          ],
          "name": "stdout"
        }
      ]
    },
    {
      "cell_type": "markdown",
      "metadata": {
        "id": "SG-ZUvYVUAoF",
        "colab_type": "text"
      },
      "source": [
        "### Super() Function"
      ]
    },
    {
      "cell_type": "markdown",
      "metadata": {
        "id": "TeGeccHaUHM9",
        "colab_type": "text"
      },
      "source": [
        "To inherit all the methods and properties from the parent class the `super()` function is used."
      ]
    },
    {
      "cell_type": "code",
      "metadata": {
        "id": "_j1WIqbLWoeW",
        "colab_type": "code",
        "colab": {
          "base_uri": "https://localhost:8080/",
          "height": 35
        },
        "outputId": "94790d94-23d2-41a7-f532-981aa3cc4782"
      },
      "source": [
        "#createing a base class or parent class\n",
        "\n",
        "class BaseClassName:\n",
        "  def __init__(self,name):\n",
        "    self.name=name\n",
        "  \n",
        "  def append(self):\n",
        "    print(\" Hello My name is \"+self.name)\n",
        "\n",
        "# Defined the child class or the derived class and has access to evrtything form the parents class due to the super() function.\n",
        "class DerivedClass(BaseClassName):\n",
        "  def __init__(self,name,year):\n",
        "    super().__init__(name)\n",
        "    self.year=year\n",
        "\n",
        "  def append2(self):\n",
        "    print(self.name+\" is invincible and this is \" + self.year)\n",
        "\n",
        "obj=DerivedClass(\"YourName\",\"2019\")\n",
        "obj.append2()"
      ],
      "execution_count": 35,
      "outputs": [
        {
          "output_type": "stream",
          "text": [
            "YourName is invincible and this is2019\n"
          ],
          "name": "stdout"
        }
      ]
    }
  ]
}
