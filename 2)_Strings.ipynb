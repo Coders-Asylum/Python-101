{
  "nbformat": 4,
  "nbformat_minor": 0,
  "metadata": {
    "colab": {
      "name": "2) Strings.ipynb",
      "provenance": [],
      "collapsed_sections": [],
      "include_colab_link": true
    },
    "kernelspec": {
      "name": "python3",
      "display_name": "Python 3"
    }
  },
  "cells": [
    {
      "cell_type": "markdown",
      "metadata": {
        "id": "view-in-github",
        "colab_type": "text"
      },
      "source": [
        "<a href=\"https://colab.research.google.com/github/Coders-Asylum/Python-101/blob/master/2)_Strings.ipynb\" target=\"_parent\"><img src=\"https://colab.research.google.com/assets/colab-badge.svg\" alt=\"Open In Colab\"/></a>"
      ]
    },
    {
      "cell_type": "markdown",
      "metadata": {
        "id": "d8v3gYyoW_l6",
        "colab_type": "text"
      },
      "source": [
        "# Strings"
      ]
    },
    {
      "cell_type": "markdown",
      "metadata": {
        "id": "LR4ivvAbXCAp",
        "colab_type": "text"
      },
      "source": [
        "Syntax for defininng strings is vey simple, the letter, word, statements should be defined inside ```'...'```(single inverted) or ```\"...\"``` (double inverted) commas. "
      ]
    },
    {
      "cell_type": "code",
      "metadata": {
        "id": "5ucaehrAWeBi",
        "colab_type": "code",
        "outputId": "02fc08c3-2a79-4f39-8b7f-f16246100e67",
        "colab": {
          "base_uri": "https://localhost:8080/",
          "height": 34
        }
      },
      "source": [
        "a = \"Hello, World\"  # String Declared\n",
        "print(a)"
      ],
      "execution_count": 0,
      "outputs": [
        {
          "output_type": "stream",
          "text": [
            "Hello, World\n"
          ],
          "name": "stdout"
        }
      ]
    },
    {
      "cell_type": "markdown",
      "metadata": {
        "id": "6FTOjjl99mEh",
        "colab_type": "text"
      },
      "source": [
        "## Special Characters in python"
      ]
    },
    {
      "cell_type": "markdown",
      "metadata": {
        "id": "PUDGjdIC69v4",
        "colab_type": "text"
      },
      "source": [
        "\n",
        "\"\\\\\" escape character\n",
        "\n",
        "\"\\n\" new line character\n",
        " \n",
        " \"\\t\" adds spaces\n",
        " \n",
        " \"r\"  raw strings character\n",
        " \n",
        " \"\"\"......\"\"\"  is like the \\<pre> tag in HTML, The content inside ```\"\"\".....\"\"\"``` is printed with the same formating as you have typed.\n"
      ]
    },
    {
      "cell_type": "code",
      "metadata": {
        "id": "1g9tdwMI-MAn",
        "colab_type": "code",
        "outputId": "e75379fb-d9bd-48b9-e25a-f1f8bd3325d3",
        "colab": {
          "base_uri": "https://localhost:8080/",
          "height": 53
        }
      },
      "source": [
        "print(\"Tom said,\\\"I am SpiderMan\\\".\") # '\\' escape character \n",
        "print('Isn\\'t')"
      ],
      "execution_count": 0,
      "outputs": [
        {
          "output_type": "stream",
          "text": [
            "Tom said,\"I am SpiderMan\".\n",
            "Isn't\n"
          ],
          "name": "stdout"
        }
      ]
    },
    {
      "cell_type": "code",
      "metadata": {
        "id": "D9WaBOeS_WYM",
        "colab_type": "code",
        "outputId": "9cadb9ff-7e9e-420b-ad1c-790fe0ea1415",
        "colab": {
          "base_uri": "https://localhost:8080/",
          "height": 53
        }
      },
      "source": [
        "print(\"Hello\\n,world\")  # '\\n' new line character"
      ],
      "execution_count": 0,
      "outputs": [
        {
          "output_type": "stream",
          "text": [
            "Hello\n",
            ",world\n"
          ],
          "name": "stdout"
        }
      ]
    },
    {
      "cell_type": "code",
      "metadata": {
        "id": "kSziT1G6AvNZ",
        "colab_type": "code",
        "colab": {}
      },
      "source": [
        "print(\"hello,\\tworld\") # '\\t' tab character used to give spaces"
      ],
      "execution_count": 0,
      "outputs": []
    },
    {
      "cell_type": "code",
      "metadata": {
        "id": "DU0xTP0o-hO3",
        "colab_type": "code",
        "outputId": "48169511-0d3c-411a-8c11-43375ea80d48",
        "colab": {
          "base_uri": "https://localhost:8080/",
          "height": 107
        }
      },
      "source": [
        "print(\"\"\"\n",
        "Usage: thingy [OPTIONS]\n",
        "     -h                        Display this usage message\n",
        "     -H hostname               Hostname to connect to\n",
        "\"\"\") # Displays strings with original formating."
      ],
      "execution_count": 0,
      "outputs": [
        {
          "output_type": "stream",
          "text": [
            "\n",
            "Usage: thingy [OPTIONS]\n",
            "     -h                        Display this usage message\n",
            "     -H hostname               Hostname to connect to\n",
            "\n"
          ],
          "name": "stdout"
        }
      ]
    },
    {
      "cell_type": "code",
      "metadata": {
        "id": "ELvdzNI--xBr",
        "colab_type": "code",
        "outputId": "c2eb33fd-5143-44a4-f894-47daad589be0",
        "colab": {
          "base_uri": "https://localhost:8080/",
          "height": 35
        }
      },
      "source": [
        "print(r\"c:\\\\user\\desktop\\some_folder\\file_name.py\") \n",
        "# r (raw input) ignores special characters if used inside a \"...\""
      ],
      "execution_count": 0,
      "outputs": [
        {
          "output_type": "stream",
          "text": [
            "c:\\\\user\\desktop\\some_folder\\file_name.py\n"
          ],
          "name": "stdout"
        }
      ]
    },
    {
      "cell_type": "markdown",
      "metadata": {
        "id": "he_wm5xA_Hzw",
        "colab_type": "text"
      },
      "source": [
        "## ADDING TWO STRINGS"
      ]
    },
    {
      "cell_type": "code",
      "metadata": {
        "id": "Xr2Zk-Z0_R6w",
        "colab_type": "code",
        "outputId": "b0179416-419c-49f0-e965-37bcabbc60e3",
        "colab": {
          "base_uri": "https://localhost:8080/",
          "height": 35
        }
      },
      "source": [
        "print(\"hello\" + \", World\")"
      ],
      "execution_count": 0,
      "outputs": [
        {
          "output_type": "stream",
          "text": [
            "hello, World\n"
          ],
          "name": "stdout"
        }
      ]
    },
    {
      "cell_type": "markdown",
      "metadata": {
        "id": "mi2S1qZA7NT-",
        "colab_type": "text"
      },
      "source": [
        "## Multiplying strings"
      ]
    },
    {
      "cell_type": "code",
      "metadata": {
        "id": "TRtM2U2fEXsM",
        "colab_type": "code",
        "outputId": "4d00c959-0784-4a36-b66e-5f90e3f44b65",
        "colab": {
          "base_uri": "https://localhost:8080/",
          "height": 35
        }
      },
      "source": [
        "a=\"un_\"\n",
        "print(a*3)\n"
      ],
      "execution_count": 0,
      "outputs": [
        {
          "output_type": "stream",
          "text": [
            "un_un_un_\n"
          ],
          "name": "stdout"
        }
      ]
    },
    {
      "cell_type": "markdown",
      "metadata": {
        "id": "MetO4IlaElaP",
        "colab_type": "text"
      },
      "source": [
        "## String Slicing"
      ]
    },
    {
      "cell_type": "markdown",
      "metadata": {
        "id": "MH868_g4ExkB",
        "colab_type": "text"
      },
      "source": [
        "<pre>+---+---+---+---+---+---+\n",
        "| P | y | t | h | o | n |\n",
        "+---+---+---+---+---+---+\n",
        "  0   1   2   3   4   5   \n",
        "     -5  -4  -3  -2  -1</pre>\n",
        "\n",
        " Both positive and negative indicing  explained above. index 0 is always given to the first letter for the left."
      ]
    },
    {
      "cell_type": "code",
      "metadata": {
        "id": "-eZNaInHGCN7",
        "colab_type": "code",
        "colab": {}
      },
      "source": [
        "word = 'Python'\n",
        "print(word[0])  # character with index  0"
      ],
      "execution_count": 0,
      "outputs": []
    },
    {
      "cell_type": "code",
      "metadata": {
        "id": "Dlf73GfZGFQu",
        "colab_type": "code",
        "outputId": "d8d9bc68-e1bc-48d8-9888-1567ea19729d",
        "colab": {
          "base_uri": "https://localhost:8080/",
          "height": 53
        }
      },
      "source": [
        "word = 'Python'\n",
        "# addressing letter 'n' with both negative and positive indexing.\n",
        "print(word[-1])  \n",
        "print(word[5])"
      ],
      "execution_count": 0,
      "outputs": [
        {
          "output_type": "stream",
          "text": [
            "n\n",
            "n\n"
          ],
          "name": "stdout"
        }
      ]
    },
    {
      "cell_type": "code",
      "metadata": {
        "id": "2ntmRWIUGKLt",
        "colab_type": "code",
        "outputId": "891ccac7-92f9-499e-a73e-256c1953b0a5",
        "colab": {
          "base_uri": "https://localhost:8080/",
          "height": 35
        }
      },
      "source": [
        "word = 'Python'\n",
        "c = word[0:2]  # String Slicing by variable_name[start : end]\n",
        "print(c)"
      ],
      "execution_count": 0,
      "outputs": [
        {
          "output_type": "stream",
          "text": [
            "Py\n"
          ],
          "name": "stdout"
        }
      ]
    },
    {
      "cell_type": "code",
      "metadata": {
        "id": "L3hoyt5LGN6J",
        "colab_type": "code",
        "outputId": "b1167c4b-0636-4333-be92-650d4bfa0e38",
        "colab": {
          "base_uri": "https://localhost:8080/",
          "height": 35
        }
      },
      "source": [
        "word = 'Python'\n",
        "word[:8]  \n",
        "# without 'Start' index , the start index of the string is by default 0 \n",
        "# without the 'End' index, the end index of the string is by defaut the last index( here it is 5)\n",
        "print(word[:8])"
      ],
      "execution_count": 0,
      "outputs": [
        {
          "output_type": "stream",
          "text": [
            "Python\n"
          ],
          "name": "stdout"
        }
      ]
    },
    {
      "cell_type": "code",
      "metadata": {
        "id": "R8VWwfbOGRPm",
        "colab_type": "code",
        "outputId": "86e08c4e-3568-4af8-ac03-6f70e28bf92e",
        "colab": {
          "base_uri": "https://localhost:8080/",
          "height": 34
        }
      },
      "source": [
        "word = 'Python'\n",
        "d = 'J' + word[1:5] #string concatenation with string slicing\n",
        "print(d)  "
      ],
      "execution_count": 1,
      "outputs": [
        {
          "output_type": "stream",
          "text": [
            "Jytho\n"
          ],
          "name": "stdout"
        }
      ]
    },
    {
      "cell_type": "code",
      "metadata": {
        "id": "bo54tgzrGTjf",
        "colab_type": "code",
        "outputId": "804dafff-c427-4b32-e726-9b0981b95c55",
        "colab": {
          "base_uri": "https://localhost:8080/",
          "height": 35
        }
      },
      "source": [
        "word = 'Python'\n",
        "print(len(word))"
      ],
      "execution_count": 0,
      "outputs": [
        {
          "output_type": "stream",
          "text": [
            "6\n"
          ],
          "name": "stdout"
        }
      ]
    }
  ]
}