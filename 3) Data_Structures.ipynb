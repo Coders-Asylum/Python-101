{
  "nbformat": 4,
  "nbformat_minor": 0,
  "metadata": {
    "colab": {
      "name": "Data Structures.ipynb",
      "provenance": [],
      "collapsed_sections": [
        "r6WVC8AxpIib",
        "dMJfssPa9gkn",
        "1odjC0wLVXeE",
        "UsVyxO5QaR00",
        "mv6vtmwtFxBp"
      ],
      "include_colab_link": true
    },
    "kernelspec": {
      "name": "python3",
      "display_name": "Python 3"
    }
  },
  "cells": [
    {
      "cell_type": "markdown",
      "metadata": {
        "id": "view-in-github",
        "colab_type": "text"
      },
      "source": [
        "<a href=\"https://colab.research.google.com/github/Coders-Asylum/Python-101/blob/master/Data_Structures.ipynb\" target=\"_parent\"><img src=\"https://colab.research.google.com/assets/colab-badge.svg\" alt=\"Open In Colab\"/></a>"
      ]
    },
    {
      "cell_type": "markdown",
      "metadata": {
        "id": "dEeDvNSIno2z",
        "colab_type": "text"
      },
      "source": [
        "# Data Structures"
      ]
    },
    {
      "cell_type": "markdown",
      "metadata": {
        "id": "r6WVC8AxpIib",
        "colab_type": "text"
      },
      "source": [
        "## Lists"
      ]
    },
    {
      "cell_type": "markdown",
      "metadata": {
        "id": "36fpF-REpM_E",
        "colab_type": "text"
      },
      "source": [
        "List is a basic data structure in Python, you can consider ```List``` as arrays(just of consideration, technically lists and arrays are very different) in python.\n",
        "\n",
        "To define a list you must include the list elements inside  ```[]``` brackets seperated by a commas. \n",
        "\n",
        "In python generelly list contains elements with the same datatype but the elements can be of different data type.\n",
        "\n"
      ]
    },
    {
      "cell_type": "code",
      "metadata": {
        "id": "crSOVD13xYM-",
        "colab_type": "code",
        "outputId": "d83117c7-2da9-4de1-d18b-8743d8073608",
        "colab": {
          "base_uri": "https://localhost:8080/",
          "height": 34
        }
      },
      "source": [
        "a = [213, 51, 221, 211, 213, 'f', 'a', 'e', 'c', 'b']\n",
        "print(a)"
      ],
      "execution_count": 0,
      "outputs": [
        {
          "output_type": "stream",
          "text": [
            "[213, 51, 221, 211, 213, 'f', 'a', 'e', 'c', 'b']\n"
          ],
          "name": "stdout"
        }
      ]
    },
    {
      "cell_type": "markdown",
      "metadata": {
        "id": "hdt6AVEryFME",
        "colab_type": "text"
      },
      "source": [
        "Elemenst from the lists are accessed by adressing the position of the elemets.\n",
        "The position of the elemenst follow the same position structure as used in string slicing.\n",
        "\n",
        "consider the list ```a=[1,2,3,4,5,6]``` the position of the elements would be as follows.\n",
        "```\n",
        "   +---+---+---+---+---+---+\n",
        "a=[| 1 | 2 | 3 | 4 | 5 | 6 |]\n",
        "   +---+---+---+---+---+---+\n",
        "     0   1   2   3   4   5   #positive index\n",
        "    -6  -5  -4  -3  -2  -1   #negative index\n",
        "```\n",
        "Both psotive and negative indexing works but ```a=[0]``` will always the first element from the  left.\n"
      ]
    },
    {
      "cell_type": "code",
      "metadata": {
        "id": "n5WjvlHm0swz",
        "colab_type": "code",
        "outputId": "b41f6aa8-3d6c-4be0-8484-758bdb85a7d8",
        "colab": {
          "base_uri": "https://localhost:8080/",
          "height": 68
        }
      },
      "source": [
        "a=[1,2,3,4,5,6]\n",
        "print(\"a[0] will always be the first element from left:\",a[0]) \n",
        "print(\"Lets get the second element by positive indexing:\",a[1])\n",
        "print(\"Lets get the second element by negative indexing:\",a[-5])"
      ],
      "execution_count": 0,
      "outputs": [
        {
          "output_type": "stream",
          "text": [
            "a[0] will always be the first element from left: 1\n",
            "Lets get the second element by positive indexing: 2\n",
            "Lets get the second element by negative indexing: 2\n"
          ],
          "name": "stdout"
        }
      ]
    },
    {
      "cell_type": "markdown",
      "metadata": {
        "id": "VMx4zF5kzv8R",
        "colab_type": "text"
      },
      "source": [
        "The same indexing method can be used to add or exchange an element since lists are mutable whcih means their elemnts can be changed even after declaration. All the slicing methods can be used on lists. \n"
      ]
    },
    {
      "cell_type": "markdown",
      "metadata": {
        "id": "D09L5TCA8IGf",
        "colab_type": "text"
      },
      "source": [
        "A basic syntax of slicing is ```listname=[start_index : stop_index]```"
      ]
    },
    {
      "cell_type": "code",
      "metadata": {
        "id": "Yn79gaER7L_l",
        "colab_type": "code",
        "outputId": "57484d1b-6ea8-4ad0-bcaa-0aaca9731ff8",
        "colab": {
          "base_uri": "https://localhost:8080/",
          "height": 134
        }
      },
      "source": [
        "\n",
        "letters = ['a', 'b', 'c', 'd', 'e', 'f', 'g']   #define a list \n",
        "print(letters, \"\\n\") \n",
        "\n",
        "\n",
        "letters[2:5] = ['C', 'D', 'E']  #add new members over existing members using sicing\n",
        "print(letters) \n",
        "\n",
        "\n",
        "letters[2:5] = [] \n",
        "print(letters) # remeove  a set of elements using slicing.\n",
        "  \n",
        "#to add elements to the end of the  list you can use the append keyword\n",
        "\n",
        "letters.append(['C', 'D', 'E'])\n",
        "print(letters)\n",
        "\n",
        "# to add letters using slicing to the end of the list\n",
        "letters = ['a', 'b', 'c', 'd', 'e', 'f', 'g']   \n",
        "letters[6:]=['C', 'D', 'E']\n",
        "print(letters)\n",
        "\n",
        "\n",
        "letters[:] = [] # empty the whole list using slicing\n",
        "print(letters) \n",
        "\n"
      ],
      "execution_count": 0,
      "outputs": [
        {
          "output_type": "stream",
          "text": [
            "['a', 'b', 'c', 'd', 'e', 'f', 'g'] \n",
            "\n",
            "['a', 'b', 'C', 'D', 'E', 'f', 'g']\n",
            "['a', 'b', 'f', 'g']\n",
            "['a', 'b', 'f', 'g', ['C', 'D', 'E']]\n",
            "['a', 'b', 'c', 'd', 'e', 'f', 'C', 'D', 'E']\n",
            "[]\n"
          ],
          "name": "stdout"
        }
      ]
    },
    {
      "cell_type": "markdown",
      "metadata": {
        "id": "ATsQxZDiBSuS",
        "colab_type": "text"
      },
      "source": [
        "Experiment more using slicing to understand more about the functioning by yourself."
      ]
    },
    {
      "cell_type": "markdown",
      "metadata": {
        "id": "hzg-U6lW7K3H",
        "colab_type": "text"
      },
      "source": [
        "Some inbuli instrucions that will help you modify lists are as follows.\n",
        "\n",
        "Look at the code outputs and understand the functions of the keywords."
      ]
    },
    {
      "cell_type": "code",
      "metadata": {
        "id": "vCZ3oq67CzqA",
        "colab_type": "code",
        "outputId": "d9a22820-18f2-42a7-c902-a5cf98587039",
        "colab": {
          "base_uri": "https://localhost:8080/",
          "height": 67
        }
      },
      "source": [
        "a=[1,2,3] \n",
        "b=[\"a\",\"s\",\"d\"] \n",
        "print(a) \n",
        "print(b) \n",
        "\n",
        "a.append(b)   # APPEND FUNCTION USED TO ADD TWO LISTS \n",
        "print(a)"
      ],
      "execution_count": 0,
      "outputs": [
        {
          "output_type": "stream",
          "text": [
            "[1, 2, 3]\n",
            "['a', 's', 'd']\n",
            "[1, 2, 3, ['a', 's', 'd']]\n"
          ],
          "name": "stdout"
        }
      ]
    },
    {
      "cell_type": "code",
      "metadata": {
        "id": "w52M7rITC76O",
        "colab_type": "code",
        "outputId": "37f494b4-ac52-47e5-bd36-a6ff0f1e3749",
        "colab": {
          "base_uri": "https://localhost:8080/",
          "height": 50
        }
      },
      "source": [
        "a=[1,2,3] \n",
        "a.pop(1) #removes the element from the list, argument takes index value of element. \n",
        "print(a)\n",
        "print() \n"
      ],
      "execution_count": 0,
      "outputs": [
        {
          "output_type": "stream",
          "text": [
            "[1, 3]\n",
            "\n"
          ],
          "name": "stdout"
        }
      ]
    },
    {
      "cell_type": "code",
      "metadata": {
        "id": "_BPTKwQ3DB_1",
        "colab_type": "code",
        "outputId": "7a7731bc-9c2c-4cb2-9e44-77ca274777db",
        "colab": {
          "base_uri": "https://localhost:8080/",
          "height": 34
        }
      },
      "source": [
        "b=[\"a\",\"s\",\"d\"] \n",
        "b[2]=\"y\"       #Add a specific element to the list with specifying the index value. \n",
        "print(b) "
      ],
      "execution_count": 0,
      "outputs": [
        {
          "output_type": "stream",
          "text": [
            "['a', 's', 'y']\n"
          ],
          "name": "stdout"
        }
      ]
    },
    {
      "cell_type": "code",
      "metadata": {
        "id": "VbMQX0l1DGxu",
        "colab_type": "code",
        "outputId": "77ed78c8-c2e1-429c-d6fe-435cabc69a92",
        "colab": {
          "base_uri": "https://localhost:8080/",
          "height": 34
        }
      },
      "source": [
        "b=[\"a\",\"s\",\"d\"]\n",
        "\n",
        "b.insert(3,\"y\")  #Insert keyword used to add elements into the list                   \n",
        "# arguments take the index value and the element to be added. \n",
        "print(b) "
      ],
      "execution_count": 0,
      "outputs": [
        {
          "output_type": "stream",
          "text": [
            "['a', 's', 'd', 'y']\n"
          ],
          "name": "stdout"
        }
      ]
    },
    {
      "cell_type": "code",
      "metadata": {
        "id": "TbR3edZfDMz9",
        "colab_type": "code",
        "outputId": "e28091f4-3c38-4689-c15b-cd77cdbc38a5",
        "colab": {
          "base_uri": "https://localhost:8080/",
          "height": 34
        }
      },
      "source": [
        "b=[\"a\",\"s\",\"d\"]\n",
        "\n",
        "b.clear()      #Clears the whole list. \n",
        "print(b)"
      ],
      "execution_count": 0,
      "outputs": [
        {
          "output_type": "stream",
          "text": [
            "[]\n"
          ],
          "name": "stdout"
        }
      ]
    },
    {
      "cell_type": "code",
      "metadata": {
        "id": "lzCA-wN6DTtV",
        "colab_type": "code",
        "outputId": "8c372ca3-7657-4490-a4d9-235e9eb6e408",
        "colab": {
          "base_uri": "https://localhost:8080/",
          "height": 50
        }
      },
      "source": [
        "b=[1,2,5,8,6,7,9,6,3] \n",
        "print(b) \n",
        " \n",
        "b.remove(6)    #removes first instance of specific element. \n",
        "print(b) "
      ],
      "execution_count": 0,
      "outputs": [
        {
          "output_type": "stream",
          "text": [
            "[1, 2, 5, 8, 6, 7, 9, 6, 3]\n",
            "[1, 2, 5, 8, 7, 9, 6, 3]\n"
          ],
          "name": "stdout"
        }
      ]
    },
    {
      "cell_type": "code",
      "metadata": {
        "id": "ANebnxsODXJU",
        "colab_type": "code",
        "outputId": "f929f30c-8e96-4a72-ca28-2d093d1fc70f",
        "colab": {
          "base_uri": "https://localhost:8080/",
          "height": 34
        }
      },
      "source": [
        "b=[1,2,5,8,6,7,9,6,3] \n",
        "\n",
        "del b[2:4] #deletes element, arguments takes index value as single value or as for slicing \n",
        "print(b) "
      ],
      "execution_count": 0,
      "outputs": [
        {
          "output_type": "stream",
          "text": [
            "[1, 2, 6, 7, 9, 6, 3]\n"
          ],
          "name": "stdout"
        }
      ]
    },
    {
      "cell_type": "code",
      "metadata": {
        "id": "zpJ4jQNQDahH",
        "colab_type": "code",
        "outputId": "9985b040-dc8c-4a2e-9448-ccba7cc95c4d",
        "colab": {
          "base_uri": "https://localhost:8080/",
          "height": 34
        }
      },
      "source": [
        "b=[1,2,5,8,6,7,9,6,3] \n",
        "\n",
        "b.extend([5,8,6]) #adds the elements to the end of the list. \n",
        "print(b) "
      ],
      "execution_count": 0,
      "outputs": [
        {
          "output_type": "stream",
          "text": [
            "[1, 2, 5, 8, 6, 7, 9, 6, 3, 5, 8, 6]\n"
          ],
          "name": "stdout"
        }
      ]
    },
    {
      "cell_type": "code",
      "metadata": {
        "id": "c0WYmHwrDe0L",
        "colab_type": "code",
        "outputId": "401296a1-6783-47ac-9cfc-79540b1a8b94",
        "colab": {
          "base_uri": "https://localhost:8080/",
          "height": 67
        }
      },
      "source": [
        "b=[1,2,5,8,6,7,9,6,3] \n",
        "\n",
        "print(min(b)) #gives the minimum value \n",
        " \n",
        "print(max(b)) #gives the maximum value \n",
        " \n",
        "print(len(b)) #gives the length of the list. "
      ],
      "execution_count": 0,
      "outputs": [
        {
          "output_type": "stream",
          "text": [
            "1\n",
            "9\n",
            "9\n"
          ],
          "name": "stdout"
        }
      ]
    },
    {
      "cell_type": "code",
      "metadata": {
        "id": "cxtNw-S7Di7U",
        "colab_type": "code",
        "outputId": "1638f5b6-faf9-4cee-e3ff-1a6ad209bf64",
        "colab": {
          "base_uri": "https://localhost:8080/",
          "height": 34
        }
      },
      "source": [
        "b=[1,2,5,8,6,7,9,6,3] \n",
        "\n",
        "b.sort()     #sorts the list into ascending order \n",
        "print(b) "
      ],
      "execution_count": 0,
      "outputs": [
        {
          "output_type": "stream",
          "text": [
            "[1, 2, 3, 5, 6, 6, 7, 8, 9]\n"
          ],
          "name": "stdout"
        }
      ]
    },
    {
      "cell_type": "code",
      "metadata": {
        "id": "FUNaZWv9DmV8",
        "colab_type": "code",
        "outputId": "38c8dbf3-9729-4f70-8871-aae7fa3ef98f",
        "colab": {
          "base_uri": "https://localhost:8080/",
          "height": 50
        }
      },
      "source": [
        "a=['s','d','a','r','e'] \n",
        "a.sort(reverse=True) #when reverse=true, sorting takes place in descending order. \n",
        "\n",
        "print(a)\n",
        "\n",
        "a=['s','d','a','r','e'] \n",
        "a.reverse()  # .reverse() keyword reverses the list. \n",
        "print(a)"
      ],
      "execution_count": 0,
      "outputs": [
        {
          "output_type": "stream",
          "text": [
            "['s', 'r', 'e', 'd', 'a']\n",
            "['e', 'r', 'a', 'd', 's']\n"
          ],
          "name": "stdout"
        }
      ]
    },
    {
      "cell_type": "markdown",
      "metadata": {
        "id": "dMJfssPa9gkn",
        "colab_type": "text"
      },
      "source": [
        "## Tuples"
      ]
    },
    {
      "cell_type": "markdown",
      "metadata": {
        "id": "vMMWCLiy_J_j",
        "colab_type": "text"
      },
      "source": [
        "Tuples are immutable data-strructures, which means after defining a tuple the elements of the tuple cannot be changed.\n",
        "\n",
        "A tuple consists of a number of values separated by commas,for instance\n",
        "\n",
        "``` variable = 12345, 54321, 'hello!'```\n",
        "\n",
        "Similar to the list the elements are seperated by commas ```,```. A tuple can also be defined by enclosing the elements inside the round brackets ```()```.\n",
        "\n",
        "Tuples may be nested, such as:"
      ]
    },
    {
      "cell_type": "code",
      "metadata": {
        "id": "w3M31UQAS-3Q",
        "colab_type": "code",
        "outputId": "50c0d679-1897-4332-e146-3d690af3ddfb",
        "colab": {
          "base_uri": "https://localhost:8080/",
          "height": 34
        }
      },
      "source": [
        "t=('a','b','c','d','e' )  \n",
        "u = t, (1, 2, 3, 4, 5)  # nesting t inside u\n",
        "print(u)"
      ],
      "execution_count": 0,
      "outputs": [
        {
          "output_type": "stream",
          "text": [
            "(('a', 'b', 'c', 'd', 'e'), (1, 2, 3, 4, 5))\n"
          ],
          "name": "stdout"
        }
      ]
    },
    {
      "cell_type": "markdown",
      "metadata": {
        "id": "ZTHVuUpPTlnX",
        "colab_type": "text"
      },
      "source": [
        "We said that tuples are immutable but tuples can contain imuutable objects.\n"
      ]
    },
    {
      "cell_type": "code",
      "metadata": {
        "id": "U27Og5OfVHlC",
        "colab_type": "code",
        "outputId": "22da598a-545b-4dd6-de48-f7cfb7ee43a7",
        "colab": {
          "base_uri": "https://localhost:8080/",
          "height": 34
        }
      },
      "source": [
        "v = ([1, 2, 3], [3, 2, 1]) # lists inside tuples\n",
        "print(v) \n"
      ],
      "execution_count": 0,
      "outputs": [
        {
          "output_type": "stream",
          "text": [
            "([1, 2, 3], [3, 2, 1])\n"
          ],
          "name": "stdout"
        }
      ]
    },
    {
      "cell_type": "markdown",
      "metadata": {
        "id": "1odjC0wLVXeE",
        "colab_type": "text"
      },
      "source": [
        "### Unpacaking Tuples"
      ]
    },
    {
      "cell_type": "markdown",
      "metadata": {
        "id": "APpOffWlVb5-",
        "colab_type": "text"
      },
      "source": [
        "We know how to define a tuple. Tuple have  an intresting property of unpacking the elements into different variables. Now consider the below example:"
      ]
    },
    {
      "cell_type": "code",
      "metadata": {
        "id": "FvJBN0vzVw5d",
        "colab_type": "code",
        "outputId": "9064fbf7-0f1f-44c4-eb9b-33436f3aba6f",
        "colab": {
          "base_uri": "https://localhost:8080/",
          "height": 119
        }
      },
      "source": [
        "t=(1,2,3,\"hello\")\n",
        "print(t,\"\\n\")\n",
        "\n",
        "w,x,y,z=t   # Unpacking the elements into different \n",
        "\n",
        "print(w)\n",
        "print(x)\n",
        "print(y)\n",
        "print(z)"
      ],
      "execution_count": 0,
      "outputs": [
        {
          "output_type": "stream",
          "text": [
            "(1, 2, 3, 'hello') \n",
            "\n",
            "1\n",
            "2\n",
            "3\n",
            "hello\n"
          ],
          "name": "stdout"
        }
      ]
    },
    {
      "cell_type": "markdown",
      "metadata": {
        "id": "UsVyxO5QaR00",
        "colab_type": "text"
      },
      "source": [
        "## Sets"
      ]
    },
    {
      "cell_type": "markdown",
      "metadata": {
        "id": "lZbwnL8daUcQ",
        "colab_type": "text"
      },
      "source": [
        "Python also supports sets as an datatype. Sets are unorders collecttion of data whitout any duplicates. \n",
        "\n",
        "Sets in python are same as the sets in matamatics, so they(set elements) support matamatical opeeraions such union, intersection, difference, and symmetric difference.\n",
        "\n",
        "Sets are defined by the ```set()``` or by ```{}```, now to a define a empty set, you must use ```variable=set()``` and not ```variable={}```. By doing the later the interpreter will interpret and define an empty dictionary."
      ]
    },
    {
      "cell_type": "markdown",
      "metadata": {
        "id": "1Yyzx0Fmcvdb",
        "colab_type": "text"
      },
      "source": [
        "Look at the code example below to get a:"
      ]
    },
    {
      "cell_type": "code",
      "metadata": {
        "id": "9ENGOjaMcuC2",
        "colab_type": "code",
        "outputId": "4a12e21a-f203-46fe-c8e5-efae6770f586",
        "colab": {
          "base_uri": "https://localhost:8080/",
          "height": 51
        }
      },
      "source": [
        "basket = {'apple', 'orange', 'apple', 'pear', 'orange', 'banana'}\n",
        "\n",
        "print(basket)                      # show that duplicates have been removed\n",
        "{'orange', 'banana', 'pear', 'apple'}\n",
        "\n",
        "#the same set can be defined using the set() keyword\n",
        "\n",
        "basket=set(['apple','orange','apple','pear','orange','banana'])\n",
        "print (basket)\n"
      ],
      "execution_count": 0,
      "outputs": [
        {
          "output_type": "stream",
          "text": [
            "{'apple', 'pear', 'orange', 'banana'}\n",
            "{'apple', 'pear', 'orange', 'banana'}\n"
          ],
          "name": "stdout"
        }
      ]
    },
    {
      "cell_type": "markdown",
      "metadata": {
        "id": "9uqZL51Gxnal",
        "colab_type": "text"
      },
      "source": [
        "In the above delaration of set using ```set()```  a list was given as an argument beacuse the ```set()```  only takes one argument and removing the square brackets would send each element as an argument and create and error on execution."
      ]
    },
    {
      "cell_type": "markdown",
      "metadata": {
        "id": "gfscYNshyVIJ",
        "colab_type": "text"
      },
      "source": [
        "If you declare a Set as follows using the ```set()```:\n",
        "\n",
        "```variable=set('apple')```  The interpreter will consider each letter of the string as an element and duplicates will be destroyed."
      ]
    },
    {
      "cell_type": "code",
      "metadata": {
        "id": "HglsD_bHzsOS",
        "colab_type": "code",
        "outputId": "5b133f66-2c18-40a9-d988-c76e6cfdece1",
        "colab": {
          "base_uri": "https://localhost:8080/",
          "height": 68
        }
      },
      "source": [
        "basket=set('apple')\n",
        "print(basket)\n",
        "\n",
        "numbers=set('123548965465')\n",
        "print(numbers)\n",
        "\n",
        "# individual integers can be declared as list as follow\n",
        "numbers=set([1,2,3,4,5,5])\n",
        "print(numbers)"
      ],
      "execution_count": 0,
      "outputs": [
        {
          "output_type": "stream",
          "text": [
            "{'p', 'l', 'e', 'a'}\n",
            "{'9', '4', '2', '8', '3', '6', '1', '5'}\n",
            "{1, 2, 3, 4, 5}\n"
          ],
          "name": "stdout"
        }
      ]
    },
    {
      "cell_type": "markdown",
      "metadata": {
        "id": "9DbJtN-fxQVn",
        "colab_type": "text"
      },
      "source": [
        "### Operations on sets"
      ]
    },
    {
      "cell_type": "code",
      "metadata": {
        "id": "DxoD-LQuxP3P",
        "colab_type": "code",
        "outputId": "6824526d-86f7-44e1-fa8f-46519629654b",
        "colab": {
          "base_uri": "https://localhost:8080/",
          "height": 68
        }
      },
      "source": [
        "basket = {'apple', 'orange', 'apple', 'pear', 'orange', 'banana'}\n",
        "print(basket) \n",
        "\n",
        "print('orange' in basket)  # returns boolean value\n",
        "\n",
        "print('adadadada' in basket)"
      ],
      "execution_count": 0,
      "outputs": [
        {
          "output_type": "stream",
          "text": [
            "{'apple', 'pear', 'orange', 'banana'}\n",
            "True\n",
            "False\n"
          ],
          "name": "stdout"
        }
      ]
    },
    {
      "cell_type": "code",
      "metadata": {
        "id": "YJoent--10gm",
        "colab_type": "code",
        "outputId": "6b700d85-8027-4e64-9072-e904e964e715",
        "colab": {
          "base_uri": "https://localhost:8080/",
          "height": 51
        }
      },
      "source": [
        "a = set('abracadabra')\n",
        "print(a)        # prints 'unique' elements in 'a'\n",
        "b = set('alacazam')\n",
        "print(b)    # prints 'unique' elements in 'b'\n",
        "\n",
        "# look at the output to see how the elements of the set is scanned on using set()  "
      ],
      "execution_count": 0,
      "outputs": [
        {
          "output_type": "stream",
          "text": [
            "{'r', 'b', 'c', 'd', 'a'}\n",
            "{'z', 'm', 'c', 'l', 'a'}\n"
          ],
          "name": "stdout"
        }
      ]
    },
    {
      "cell_type": "code",
      "metadata": {
        "id": "nHOcBaq-3pDh",
        "colab_type": "code",
        "outputId": "625ea50f-56f0-4e2a-ac79-e70544312cff",
        "colab": {
          "base_uri": "https://localhost:8080/",
          "height": 34
        }
      },
      "source": [
        "# Union(letters in a or b or both) of Sets\n",
        "a = set('abracadabra')\n",
        "b = set('alacazam')\n",
        "\n",
        "print(a | b)   # '|' (or operator) is used as the union operator"
      ],
      "execution_count": 0,
      "outputs": [
        {
          "output_type": "stream",
          "text": [
            "{'z', 'r', 'm', 'b', 'c', 'd', 'l', 'a'}\n"
          ],
          "name": "stdout"
        }
      ]
    },
    {
      "cell_type": "code",
      "metadata": {
        "id": "S9qUZv6lAKJ4",
        "colab_type": "code",
        "outputId": "19bdd0d0-a65c-45ba-eef7-5219a6ecca16",
        "colab": {
          "base_uri": "https://localhost:8080/",
          "height": 34
        }
      },
      "source": [
        "# Intersection(letters in both a and b) of sets\n",
        "a = set('abracadabra')\n",
        "b = set('alacazam')\n",
        "\n",
        "print(a & b) # '&' (and operator) is used as the Intersection operator\n"
      ],
      "execution_count": 0,
      "outputs": [
        {
          "output_type": "stream",
          "text": [
            "{'c', 'a'}\n"
          ],
          "name": "stdout"
        }
      ]
    },
    {
      "cell_type": "code",
      "metadata": {
        "id": "jiphHK0mBTO-",
        "colab_type": "code",
        "outputId": "09abb4b8-1cf3-470a-e571-3ee6268d5ac3",
        "colab": {
          "base_uri": "https://localhost:8080/",
          "height": 34
        }
      },
      "source": [
        "# Diffreence(letters in one set but not in other set) of set\n",
        "a = set('abracadabra')\n",
        "b = set('alacazam')\n",
        "\n",
        "print(a - b) # '-' is used as the Difference operator"
      ],
      "execution_count": 0,
      "outputs": [
        {
          "output_type": "stream",
          "text": [
            "{'d', 'r', 'b'}\n"
          ],
          "name": "stdout"
        }
      ]
    },
    {
      "cell_type": "code",
      "metadata": {
        "id": "b0Bae3G_DMnl",
        "colab_type": "code",
        "colab": {}
      },
      "source": [
        "# Symmetric difference(letters in a or b but not both) of sets\n",
        "\n",
        "a = set('abracadabra')\n",
        "b = set('alacazam')\n",
        "\n",
        "print(a ^ b)  # '^' is used as the symmetric difference operator"
      ],
      "execution_count": 0,
      "outputs": []
    },
    {
      "cell_type": "markdown",
      "metadata": {
        "id": "mv6vtmwtFxBp",
        "colab_type": "text"
      },
      "source": [
        "## Dictionaries"
      ]
    },
    {
      "cell_type": "markdown",
      "metadata": {
        "id": "vblmNXLDCQeY",
        "colab_type": "text"
      },
      "source": [
        "Dictionary is an another type of data structure suppoeeted by python. Dictonary is also present in other languages as “associative memories” or “associative arrays”. \n",
        "\n",
        "Dictionary is unlike other sequence where the elements are indexed by numbers( posional index 0,1,2,3,4....), in dictionary the elements are indexed by keys, which can be any immutable types.\n",
        "\n",
        "Strings and numbers can always be keys.\n",
        "\n",
        "You can’t use ```list``` as keys, since lists can be modified in place using index assignments, slice assignments, or methods like ```append()``` and ```extend()```.\n",
        "\n",
        "Dictionary is defined as follows:\n",
        "\n",
        "```dict={key1:value1,key2:value2,key3:value3....}```\n",
        "\n",
        "The dict() constructor builds dictionaries directly from sequences of key-value pairs"
      ]
    },
    {
      "cell_type": "code",
      "metadata": {
        "id": "SsJB5FWdIuA5",
        "colab_type": "code",
        "colab": {
          "base_uri": "https://localhost:8080/",
          "height": 35
        },
        "outputId": "19f11ac8-48e0-456e-ae90-62d5a0351a8f"
      },
      "source": [
        "tel = {'jack': 4098, 'sape': 4139}\n",
        "print(tel['jack'])"
      ],
      "execution_count": 1,
      "outputs": [
        {
          "output_type": "stream",
          "text": [
            "4098\n"
          ],
          "name": "stdout"
        }
      ]
    },
    {
      "cell_type": "code",
      "metadata": {
        "id": "Me9WY0KoOLGo",
        "colab_type": "code",
        "colab": {
          "base_uri": "https://localhost:8080/",
          "height": 35
        },
        "outputId": "4a75505d-0888-4fb0-f82e-39dc21222821"
      },
      "source": [
        " tel=dict([('sape', 4139), ('guido', 4127), ('jack', 4098)])\n",
        " print(tel)\n"
      ],
      "execution_count": 2,
      "outputs": [
        {
          "output_type": "stream",
          "text": [
            "{'sape': 4139, 'guido': 4127, 'jack': 4098}\n"
          ],
          "name": "stdout"
        }
      ]
    },
    {
      "cell_type": "markdown",
      "metadata": {
        "id": "CQLh0FIGF7kt",
        "colab_type": "text"
      },
      "source": [
        "### Some Looping techniques using Data Structures"
      ]
    },
    {
      "cell_type": "code",
      "metadata": {
        "id": "4cWNJao7Opjx",
        "colab_type": "code",
        "colab": {
          "base_uri": "https://localhost:8080/",
          "height": 53
        },
        "outputId": "7988c868-04df-4b8e-cff2-1a5663c34264"
      },
      "source": [
        "knights = {'gallahad': 'the pure', 'robin': 'the brave'}\n",
        "for k, v in knights.items():\n",
        "  print(k, v)"
      ],
      "execution_count": 3,
      "outputs": [
        {
          "output_type": "stream",
          "text": [
            "gallahad the pure\n",
            "robin the brave\n"
          ],
          "name": "stdout"
        }
      ]
    },
    {
      "cell_type": "code",
      "metadata": {
        "id": "oRFUQqMIOzD_",
        "colab_type": "code",
        "colab": {
          "base_uri": "https://localhost:8080/",
          "height": 71
        },
        "outputId": "47293ef1-38df-44a1-e9bc-45b40dff918c"
      },
      "source": [
        "# enumerate can be used to get the positional indices of a sequence\n",
        "for i, v in enumerate(['tic', 'tac', 'toe']):\n",
        "  print(i, v)"
      ],
      "execution_count": 4,
      "outputs": [
        {
          "output_type": "stream",
          "text": [
            "0 tic\n",
            "1 tac\n",
            "2 toe\n"
          ],
          "name": "stdout"
        }
      ]
    },
    {
      "cell_type": "code",
      "metadata": {
        "id": "W-aSMPZYQk7D",
        "colab_type": "code",
        "colab": {
          "base_uri": "https://localhost:8080/",
          "height": 71
        },
        "outputId": "4bf0c0a9-b64e-4065-8855-dd078df34fbe"
      },
      "source": [
        "# Loopoing over two or more sequences is done as follows\n",
        "\n",
        "questions = ['name', 'quest', 'favorite color']\n",
        "answers = ['lancelot', 'the holy grail', 'blue']\n",
        "\n",
        "for q, a in zip(questions, answers): \n",
        "  # questions has the index '0' and answers has index '1' and so on \n",
        "  print('What is your {0}?  It is {1}.'.format(q, a))"
      ],
      "execution_count": 6,
      "outputs": [
        {
          "output_type": "stream",
          "text": [
            "What is your lancelot?  It is name.\n",
            "What is your the holy grail?  It is quest.\n",
            "What is your blue?  It is favorite color.\n"
          ],
          "name": "stdout"
        }
      ]
    },
    {
      "cell_type": "markdown",
      "metadata": {
        "id": "sUcn0sxGOypo",
        "colab_type": "text"
      },
      "source": [
        ""
      ]
    }
  ]
}
