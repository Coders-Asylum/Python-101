{
  "nbformat": 4,
  "nbformat_minor": 0,
  "metadata": {
    "colab": {
      "name": "Variables.ipynb",
      "provenance": []
    },
    "kernelspec": {
      "name": "python3",
      "display_name": "Python 3"
    }
  },
  "cells": [
    {
      "cell_type": "code",
      "metadata": {
        "id": "WV2t8eK0FQSU",
        "colab_type": "code",
        "colab": {
          "base_uri": "https://localhost:8080/",
          "height": 145
        },
        "outputId": "884eaf00-df4e-4378-c680-7a68738e62c4"
      },
      "source": [
        "# print(\"message\", value)\n",
        "a = 4\n",
        "print(4)\n",
        "\n",
        "b = 6\n",
        "print(a + b)\n",
        "print(4 + 5)\n",
        "\n",
        "# '_' function that takes the immediate result of the previous operation\n",
        "# *' operator for multiplication\n",
        "# /  operator division function\n",
        "# // operator floor division\n",
        "# ** operator power function\n",
        "# input(\"....\")     syntax for taking input\n",
        "# int(input(\"message\")      pecifyig the g\n",
        "\n",
        "a = 45455\n",
        "b = 464\n",
        "c = (a / b)\n",
        "print(c)\n",
        "print(a // b)\n",
        "print(round(c))\n",
        "print(round(c, 2))"
      ],
      "execution_count": 1,
      "outputs": [
        {
          "output_type": "stream",
          "text": [
            "4\n",
            "10\n",
            "9\n",
            "97.96336206896552\n",
            "97\n",
            "98\n",
            "97.96\n"
          ],
          "name": "stdout"
        }
      ]
    },
    {
      "cell_type": "markdown",
      "metadata": {
        "id": "V-c2u3MzG5de",
        "colab_type": "text"
      },
      "source": [
        "Python variables are same as variables in any programing language. Please go through the above code block and analuze the code."
      ]
    }
  ]
}