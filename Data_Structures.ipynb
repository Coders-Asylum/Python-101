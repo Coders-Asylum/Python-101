{
  "nbformat": 4,
  "nbformat_minor": 0,
  "metadata": {
    "colab": {
      "name": "Data Structures.ipynb",
      "provenance": [],
      "include_colab_link": true
    },
    "kernelspec": {
      "name": "python3",
      "display_name": "Python 3"
    }
  },
  "cells": [
    {
      "cell_type": "markdown",
      "metadata": {
        "id": "view-in-github",
        "colab_type": "text"
      },
      "source": [
        "<a href=\"https://colab.research.google.com/github/Coders-Asylum/Python-101/blob/master/Data_Structures.ipynb\" target=\"_parent\"><img src=\"https://colab.research.google.com/assets/colab-badge.svg\" alt=\"Open In Colab\"/></a>"
      ]
    },
    {
      "cell_type": "markdown",
      "metadata": {
        "id": "dEeDvNSIno2z",
        "colab_type": "text"
      },
      "source": [
        "# Data Structures"
      ]
    },
    {
      "cell_type": "markdown",
      "metadata": {
        "id": "r6WVC8AxpIib",
        "colab_type": "text"
      },
      "source": [
        "## Lists"
      ]
    },
    {
      "cell_type": "markdown",
      "metadata": {
        "id": "36fpF-REpM_E",
        "colab_type": "text"
      },
      "source": [
        "List is a basic data structure in Python, you can consider ```List``` as arrays(just of consideration, technically lists and arrays are very different) in python.\n",
        "\n",
        "To define a list you must include the list elements inside  ```[]``` brackets seperated by a commas. \n",
        "\n",
        "In python generelly list contains elements with the same datatype but the elements can be of different data type.\n",
        "\n"
      ]
    },
    {
      "cell_type": "code",
      "metadata": {
        "id": "crSOVD13xYM-",
        "colab_type": "code",
        "outputId": "d83117c7-2da9-4de1-d18b-8743d8073608",
        "colab": {
          "base_uri": "https://localhost:8080/",
          "height": 34
        }
      },
      "source": [
        "a = [213, 51, 221, 211, 213, 'f', 'a', 'e', 'c', 'b']\n",
        "print(a)"
      ],
      "execution_count": 0,
      "outputs": [
        {
          "output_type": "stream",
          "text": [
            "[213, 51, 221, 211, 213, 'f', 'a', 'e', 'c', 'b']\n"
          ],
          "name": "stdout"
        }
      ]
    },
    {
      "cell_type": "markdown",
      "metadata": {
        "id": "hdt6AVEryFME",
        "colab_type": "text"
      },
      "source": [
        "Elemenst from the lists are accessed by adressing the position of the elemets.\n",
        "The position of the elemenst follow the same position structure as used in string slicing.\n",
        "\n",
        "consider the list ```a=[1,2,3,4,5,6]``` the position of the elements would be as follows.\n",
        "```\n",
        "   +---+---+---+---+---+---+\n",
        "a=[| 1 | 2 | 3 | 4 | 5 | 6 |]\n",
        "   +---+---+---+---+---+---+\n",
        "     0   1   2   3   4   5   #positive index\n",
        "    -6  -5  -4  -3  -2  -1   #negative index\n",
        "```\n",
        "Both psotive and negative indexing works but ```a=[0]``` will always the first element from the  left.\n"
      ]
    },
    {
      "cell_type": "code",
      "metadata": {
        "id": "n5WjvlHm0swz",
        "colab_type": "code",
        "outputId": "3a7a5818-e3da-45d6-e9f4-4d97e9723d83",
        "colab": {
          "base_uri": "https://localhost:8080/",
          "height": 67
        }
      },
      "source": [
        "a=[1,2,3,4,5,6]\n",
        "print(\"a[0] will always be the first element from left:\",a[0]) \n",
        "print(\"Lets get the second element by negative indexing:\",a[1])\n",
        "print(\"Lets get the second element by negative indexing:\",a[-5])"
      ],
      "execution_count": 0,
      "outputs": [
        {
          "output_type": "stream",
          "text": [
            "a[0] will always be the first element from left: 1\n",
            "Lets get the second element by negative indexing: 2\n",
            "Lets get the second element by negative indexing: 2\n"
          ],
          "name": "stdout"
        }
      ]
    },
    {
      "cell_type": "markdown",
      "metadata": {
        "id": "VMx4zF5kzv8R",
        "colab_type": "text"
      },
      "source": [
        "The same indexing method can be used to add or exchange an element since lists are mutable whcih means their elemnts can be changed even after declaration. All the slicing methods can be used on lists. \n"
      ]
    },
    {
      "cell_type": "markdown",
      "metadata": {
        "id": "D09L5TCA8IGf",
        "colab_type": "text"
      },
      "source": [
        "A basic syntax of slicing is ```listname=[start_index : stop_index]```"
      ]
    },
    {
      "cell_type": "code",
      "metadata": {
        "id": "Yn79gaER7L_l",
        "colab_type": "code",
        "outputId": "57484d1b-6ea8-4ad0-bcaa-0aaca9731ff8",
        "colab": {
          "base_uri": "https://localhost:8080/",
          "height": 134
        }
      },
      "source": [
        "\n",
        "letters = ['a', 'b', 'c', 'd', 'e', 'f', 'g']   #define a list \n",
        "print(letters, \"\\n\") \n",
        "\n",
        "\n",
        "letters[2:5] = ['C', 'D', 'E']  #add new members over existing members using sicing\n",
        "print(letters) \n",
        "\n",
        "\n",
        "letters[2:5] = [] \n",
        "print(letters) # remeove  a set of elements using slicing.\n",
        "  \n",
        "#to add elements to the end of the  list you can use the append keyword\n",
        "\n",
        "letters.append(['C', 'D', 'E'])\n",
        "print(letters)\n",
        "\n",
        "# to add letters using slicing to the end of the list\n",
        "letters = ['a', 'b', 'c', 'd', 'e', 'f', 'g']   \n",
        "letters[6:]=['C', 'D', 'E']\n",
        "print(letters)\n",
        "\n",
        "\n",
        "letters[:] = [] # empty the whole list using slicing\n",
        "print(letters) \n",
        "\n"
      ],
      "execution_count": 14,
      "outputs": [
        {
          "output_type": "stream",
          "text": [
            "['a', 'b', 'c', 'd', 'e', 'f', 'g'] \n",
            "\n",
            "['a', 'b', 'C', 'D', 'E', 'f', 'g']\n",
            "['a', 'b', 'f', 'g']\n",
            "['a', 'b', 'f', 'g', ['C', 'D', 'E']]\n",
            "['a', 'b', 'c', 'd', 'e', 'f', 'C', 'D', 'E']\n",
            "[]\n"
          ],
          "name": "stdout"
        }
      ]
    },
    {
      "cell_type": "markdown",
      "metadata": {
        "id": "ATsQxZDiBSuS",
        "colab_type": "text"
      },
      "source": [
        "Experiment more using slicing to understand more about the functioning by yourself."
      ]
    },
    {
      "cell_type": "markdown",
      "metadata": {
        "id": "hzg-U6lW7K3H",
        "colab_type": "text"
      },
      "source": [
        "Some inbuli instrucions that will help you modify lists are as follows.\n",
        "\n",
        "Look at the code outputs and understand the functions of the keywords."
      ]
    },
    {
      "cell_type": "code",
      "metadata": {
        "id": "vCZ3oq67CzqA",
        "colab_type": "code",
        "colab": {
          "base_uri": "https://localhost:8080/",
          "height": 67
        },
        "outputId": "d9a22820-18f2-42a7-c902-a5cf98587039"
      },
      "source": [
        "a=[1,2,3] \n",
        "b=[\"a\",\"s\",\"d\"] \n",
        "print(a) \n",
        "print(b) \n",
        "\n",
        "a.append(b)   # APPEND FUNCTION USED TO ADD TWO LISTS \n",
        "print(a)"
      ],
      "execution_count": 18,
      "outputs": [
        {
          "output_type": "stream",
          "text": [
            "[1, 2, 3]\n",
            "['a', 's', 'd']\n",
            "[1, 2, 3, ['a', 's', 'd']]\n"
          ],
          "name": "stdout"
        }
      ]
    },
    {
      "cell_type": "code",
      "metadata": {
        "id": "w52M7rITC76O",
        "colab_type": "code",
        "colab": {
          "base_uri": "https://localhost:8080/",
          "height": 50
        },
        "outputId": "37f494b4-ac52-47e5-bd36-a6ff0f1e3749"
      },
      "source": [
        "a=[1,2,3] \n",
        "a.pop(1) #removes the element from the list, argument takes index value of element. \n",
        "print(a)\n",
        "print() \n"
      ],
      "execution_count": 19,
      "outputs": [
        {
          "output_type": "stream",
          "text": [
            "[1, 3]\n",
            "\n"
          ],
          "name": "stdout"
        }
      ]
    },
    {
      "cell_type": "code",
      "metadata": {
        "id": "_BPTKwQ3DB_1",
        "colab_type": "code",
        "colab": {
          "base_uri": "https://localhost:8080/",
          "height": 34
        },
        "outputId": "7a7731bc-9c2c-4cb2-9e44-77ca274777db"
      },
      "source": [
        "b=[\"a\",\"s\",\"d\"] \n",
        "b[2]=\"y\"       #Add a specific element to the list with specifying the index value. \n",
        "print(b) "
      ],
      "execution_count": 20,
      "outputs": [
        {
          "output_type": "stream",
          "text": [
            "['a', 's', 'y']\n"
          ],
          "name": "stdout"
        }
      ]
    },
    {
      "cell_type": "code",
      "metadata": {
        "id": "VbMQX0l1DGxu",
        "colab_type": "code",
        "colab": {
          "base_uri": "https://localhost:8080/",
          "height": 34
        },
        "outputId": "77ed78c8-c2e1-429c-d6fe-435cabc69a92"
      },
      "source": [
        "b=[\"a\",\"s\",\"d\"]\n",
        "\n",
        "b.insert(3,\"y\")  #Insert keyword used to add elements into the list                   \n",
        "# arguments take the index value and the element to be added. \n",
        "print(b) "
      ],
      "execution_count": 21,
      "outputs": [
        {
          "output_type": "stream",
          "text": [
            "['a', 's', 'd', 'y']\n"
          ],
          "name": "stdout"
        }
      ]
    },
    {
      "cell_type": "code",
      "metadata": {
        "id": "TbR3edZfDMz9",
        "colab_type": "code",
        "colab": {
          "base_uri": "https://localhost:8080/",
          "height": 34
        },
        "outputId": "e28091f4-3c38-4689-c15b-cd77cdbc38a5"
      },
      "source": [
        "b=[\"a\",\"s\",\"d\"]\n",
        "\n",
        "b.clear()      #Clears the whole list. \n",
        "print(b)"
      ],
      "execution_count": 22,
      "outputs": [
        {
          "output_type": "stream",
          "text": [
            "[]\n"
          ],
          "name": "stdout"
        }
      ]
    },
    {
      "cell_type": "code",
      "metadata": {
        "id": "lzCA-wN6DTtV",
        "colab_type": "code",
        "colab": {
          "base_uri": "https://localhost:8080/",
          "height": 50
        },
        "outputId": "8c372ca3-7657-4490-a4d9-235e9eb6e408"
      },
      "source": [
        "b=[1,2,5,8,6,7,9,6,3] \n",
        "print(b) \n",
        " \n",
        "b.remove(6)    #removes first instance of specific element. \n",
        "print(b) "
      ],
      "execution_count": 23,
      "outputs": [
        {
          "output_type": "stream",
          "text": [
            "[1, 2, 5, 8, 6, 7, 9, 6, 3]\n",
            "[1, 2, 5, 8, 7, 9, 6, 3]\n"
          ],
          "name": "stdout"
        }
      ]
    },
    {
      "cell_type": "code",
      "metadata": {
        "id": "ANebnxsODXJU",
        "colab_type": "code",
        "colab": {
          "base_uri": "https://localhost:8080/",
          "height": 34
        },
        "outputId": "f929f30c-8e96-4a72-ca28-2d093d1fc70f"
      },
      "source": [
        "b=[1,2,5,8,6,7,9,6,3] \n",
        "\n",
        "del b[2:4] #deletes element, arguments takes index value as single value or as for slicing \n",
        "print(b) "
      ],
      "execution_count": 24,
      "outputs": [
        {
          "output_type": "stream",
          "text": [
            "[1, 2, 6, 7, 9, 6, 3]\n"
          ],
          "name": "stdout"
        }
      ]
    },
    {
      "cell_type": "code",
      "metadata": {
        "id": "zpJ4jQNQDahH",
        "colab_type": "code",
        "colab": {
          "base_uri": "https://localhost:8080/",
          "height": 34
        },
        "outputId": "9985b040-dc8c-4a2e-9448-ccba7cc95c4d"
      },
      "source": [
        "b=[1,2,5,8,6,7,9,6,3] \n",
        "\n",
        "b.extend([5,8,6]) #adds the elements to the end of the list. \n",
        "print(b) "
      ],
      "execution_count": 25,
      "outputs": [
        {
          "output_type": "stream",
          "text": [
            "[1, 2, 5, 8, 6, 7, 9, 6, 3, 5, 8, 6]\n"
          ],
          "name": "stdout"
        }
      ]
    },
    {
      "cell_type": "code",
      "metadata": {
        "id": "c0WYmHwrDe0L",
        "colab_type": "code",
        "colab": {
          "base_uri": "https://localhost:8080/",
          "height": 67
        },
        "outputId": "401296a1-6783-47ac-9cfc-79540b1a8b94"
      },
      "source": [
        "b=[1,2,5,8,6,7,9,6,3] \n",
        "\n",
        "print(min(b)) #gives the minimum value \n",
        " \n",
        "print(max(b)) #gives the maximum value \n",
        " \n",
        "print(len(b)) #gives the length of the list. "
      ],
      "execution_count": 26,
      "outputs": [
        {
          "output_type": "stream",
          "text": [
            "1\n",
            "9\n",
            "9\n"
          ],
          "name": "stdout"
        }
      ]
    },
    {
      "cell_type": "code",
      "metadata": {
        "id": "cxtNw-S7Di7U",
        "colab_type": "code",
        "colab": {
          "base_uri": "https://localhost:8080/",
          "height": 34
        },
        "outputId": "1638f5b6-faf9-4cee-e3ff-1a6ad209bf64"
      },
      "source": [
        "b=[1,2,5,8,6,7,9,6,3] \n",
        "\n",
        "b.sort()     #sorts the list into ascending order \n",
        "print(b) "
      ],
      "execution_count": 27,
      "outputs": [
        {
          "output_type": "stream",
          "text": [
            "[1, 2, 3, 5, 6, 6, 7, 8, 9]\n"
          ],
          "name": "stdout"
        }
      ]
    },
    {
      "cell_type": "code",
      "metadata": {
        "id": "FUNaZWv9DmV8",
        "colab_type": "code",
        "colab": {
          "base_uri": "https://localhost:8080/",
          "height": 50
        },
        "outputId": "38c8dbf3-9729-4f70-8871-aae7fa3ef98f"
      },
      "source": [
        "a=['s','d','a','r','e'] \n",
        "a.sort(reverse=True) #when reverse=true, sorting takes place in descending order. \n",
        "\n",
        "print(a)\n",
        "\n",
        "a=['s','d','a','r','e'] \n",
        "a.reverse()  # .reverse() keyword reverses the list. \n",
        "print(a)"
      ],
      "execution_count": 29,
      "outputs": [
        {
          "output_type": "stream",
          "text": [
            "['s', 'r', 'e', 'd', 'a']\n",
            "['e', 'r', 'a', 'd', 's']\n"
          ],
          "name": "stdout"
        }
      ]
    },
    {
      "cell_type": "markdown",
      "metadata": {
        "id": "dMJfssPa9gkn",
        "colab_type": "text"
      },
      "source": [
        "## Tuples"
      ]
    },
    {
      "cell_type": "markdown",
      "metadata": {
        "id": "vMMWCLiy_J_j",
        "colab_type": "text"
      },
      "source": [
        ""
      ]
    }
  ]
}